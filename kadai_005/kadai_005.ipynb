{
  "nbformat": 4,
  "nbformat_minor": 0,
  "metadata": {
    "colab": {
      "provenance": []
    },
    "kernelspec": {
      "name": "python3",
      "display_name": "Python 3"
    },
    "language_info": {
      "name": "python"
    }
  },
  "cells": [
    {
      "cell_type": "code",
      "execution_count": 6,
      "metadata": {
        "colab": {
          "base_uri": "https://localhost:8080/"
        },
        "id": "ZpzkYdjLxuSw",
        "outputId": "ba2239b5-f1f5-4838-cb50-7851fdb56587"
      },
      "outputs": [
        {
          "output_type": "stream",
          "name": "stdout",
          "text": [
            "台形の面積は75.0です。\n"
          ]
        }
      ],
      "source": [
        "upper = 10\n",
        "lower = 20\n",
        "height = 5\n",
        "\n",
        "# 上辺と下辺を足す\n",
        "total_base = upper + lower\n",
        "\n",
        "# (上辺 + 下辺) * 高さを計算する\n",
        "area_temp = total_base * height\n",
        "\n",
        "# それを2で割って最終的な面積を求める\n",
        "area = area_temp / 2\n",
        "\n",
        "# 結果\n",
        "print(f\"台形の面積は{area}です。\")"
      ]
    }
  ]
}