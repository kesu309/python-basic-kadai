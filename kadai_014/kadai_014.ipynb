{
  "nbformat": 4,
  "nbformat_minor": 0,
  "metadata": {
    "colab": {
      "provenance": []
    },
    "kernelspec": {
      "name": "python3",
      "display_name": "Python 3"
    },
    "language_info": {
      "name": "python"
    }
  },
  "cells": [
    {
      "cell_type": "code",
      "execution_count": 4,
      "metadata": {
        "colab": {
          "base_uri": "https://localhost:8080/"
        },
        "id": "fzC4SynuVLAJ",
        "outputId": "5e07c1fb-0658-466e-b513-9bcd928c8e1d"
      },
      "outputs": [
        {
          "output_type": "stream",
          "name": "stdout",
          "text": [
            "11000.0\n"
          ]
        }
      ],
      "source": [
        "# 消費税を加えた計算結果を返す関数\n",
        "def calculate_total_price(price, tax_rate):\n",
        "    total_price = price * (1 + tax_rate / 100)\n",
        "    return total_price\n",
        "\n",
        "# 商品の価格\n",
        "price = 10000\n",
        "\n",
        "# 消費税\n",
        "tax_rate = 10\n",
        "\n",
        "# 関数を呼び出して消費税込みの金額を計算\n",
        "total_price = calculate_total_price(price, tax_rate)\n",
        "\n",
        "# 結果を表示\n",
        "print(total_price)\n"
      ]
    },
    {
      "cell_type": "code",
      "source": [
        "# グローバル変数を定義する\n",
        "user_name = \"侍花子\"\n",
        "\n",
        "def show_user_name():\n",
        "    # ローカル変数を定義する\n",
        "    # user_name = \"侍太郎\"\n",
        "\n",
        "    # ローカルスコープの範囲内でローカル変数を使う\n",
        "    print(user_name)\n",
        "\n",
        "show_user_name()\n",
        "\n",
        "# ローカルスコープの範囲外でローカル変数を使う（エラーが発生する）\n",
        "print(user_name)\n"
      ],
      "metadata": {
        "colab": {
          "base_uri": "https://localhost:8080/"
        },
        "id": "DIaI7zWBVpxA",
        "outputId": "512e1620-d397-49e2-872f-17ebb3f8a288"
      },
      "execution_count": 7,
      "outputs": [
        {
          "output_type": "stream",
          "name": "stdout",
          "text": [
            "侍花子\n",
            "侍花子\n"
          ]
        }
      ]
    },
    {
      "cell_type": "code",
      "source": [
        "price1 = 100\n",
        "price2 = 200\n",
        "tax = 1.1\n",
        "\n",
        "def total():\n",
        "    # tax = 1.1\n",
        "    return price1 + price2\n",
        "\n",
        "print (total() * tax)\n"
      ],
      "metadata": {
        "colab": {
          "base_uri": "https://localhost:8080/"
        },
        "id": "w-f8zHLShiKk",
        "outputId": "61c310d8-7ea9-4a8e-8f38-e9bd83630c16"
      },
      "execution_count": 9,
      "outputs": [
        {
          "output_type": "stream",
          "name": "stdout",
          "text": [
            "330.0\n"
          ]
        }
      ]
    }
  ]
}