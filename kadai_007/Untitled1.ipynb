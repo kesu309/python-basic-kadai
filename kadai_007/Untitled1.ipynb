{
  "nbformat": 4,
  "nbformat_minor": 0,
  "metadata": {
    "colab": {
      "provenance": []
    },
    "kernelspec": {
      "name": "python3",
      "display_name": "Python 3"
    },
    "language_info": {
      "name": "python"
    }
  },
  "cells": [
    {
      "cell_type": "code",
      "execution_count": null,
      "metadata": {
        "colab": {
          "base_uri": "https://localhost:8080/"
        },
        "id": "ZpzkYdjLxuSw",
        "outputId": "ba2239b5-f1f5-4838-cb50-7851fdb56587"
      },
      "outputs": [
        {
          "output_type": "stream",
          "name": "stdout",
          "text": [
            "台形の面積は75.0です。\n"
          ]
        }
      ],
      "source": [
        "upper = 10\n",
        "lower = 20\n",
        "height = 5\n",
        "\n",
        "# 上辺と下辺を足す\n",
        "total_base = upper + lower\n",
        "\n",
        "# (上辺 + 下辺) * 高さを計算する\n",
        "area_temp = total_base * height\n",
        "\n",
        "# それを2で割って最終的な面積を求める\n",
        "area = area_temp / 2\n",
        "\n",
        "# 結果\n",
        "print(f\"台形の面積は{area}です。\")"
      ]
    },
    {
      "cell_type": "code",
      "source": [
        "# リストの作成\n",
        "array = [\"月曜日は晴れです\",\"火曜日は雨です\",\"水曜日は晴れです\",\"木曜日は晴れです\",\"金曜日は曇りです\",\"土曜日は曇りのち雨です\",\"日曜日は雷雨です\"]\n",
        "print(array[2])\n",
        "\n",
        "\n",
        "dictionary = {'mon': \"晴れ\", 'tue': \"雨\", 'wed': \"晴れ\", 'thu': \"晴れ\", 'fri': \"曇り\", 'sat': \"曇りのち雨\", 'sun': \"雷雨\"}\n",
        "\n",
        "# dictionaryを取り出して表示\n",
        "print(dictionary['wed'])\n"
      ],
      "metadata": {
        "colab": {
          "base_uri": "https://localhost:8080/"
        },
        "id": "XS-OIeJCyz9u",
        "outputId": "821f416e-d188-483a-8493-1b2619479189"
      },
      "execution_count": 7,
      "outputs": [
        {
          "output_type": "stream",
          "name": "stdout",
          "text": [
            "水曜日は晴れです\n",
            "晴れ\n"
          ]
        }
      ]
    }
  ]
}