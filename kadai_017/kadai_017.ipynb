{
  "nbformat": 4,
  "nbformat_minor": 0,
  "metadata": {
    "colab": {
      "provenance": []
    },
    "kernelspec": {
      "name": "python3",
      "display_name": "Python 3"
    },
    "language_info": {
      "name": "python"
    }
  },
  "cells": [
    {
      "cell_type": "code",
      "execution_count": 9,
      "metadata": {
        "id": "iyDdQ124OOMX",
        "colab": {
          "base_uri": "https://localhost:8080/"
        },
        "outputId": "75f41af3-c501-4a4c-f4aa-ae47ff594fe0"
      },
      "outputs": [
        {
          "output_type": "stream",
          "name": "stdout",
          "text": [
            "大人である\n"
          ]
        }
      ],
      "source": [
        "class Human:\n",
        "\n",
        "    def __init__(self, name, age):\n",
        "        self.name = name\n",
        "        self.age = age\n",
        "\n",
        "    def checkadult(self):\n",
        "        if self.age >= 20:\n",
        "            print('大人である')\n",
        "        else:\n",
        "            print('大人でない')\n",
        "\n",
        "        # print(self.name)\n",
        "        # print(self.age)\n",
        "\n",
        "human = Human('kesu', 25)\n",
        "human.checkadult()\n"
      ]
    }
  ]
}