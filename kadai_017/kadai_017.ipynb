{
  "nbformat": 4,
  "nbformat_minor": 0,
  "metadata": {
    "colab": {
      "provenance": []
    },
    "kernelspec": {
      "name": "python3",
      "display_name": "Python 3"
    },
    "language_info": {
      "name": "python"
    }
  },
  "cells": [
    {
      "cell_type": "code",
      "execution_count": 7,
      "metadata": {
        "id": "iyDdQ124OOMX",
        "colab": {
          "base_uri": "https://localhost:8080/"
        },
        "outputId": "245d6fe7-5208-4fd2-cb74-03485655f3e2"
      },
      "outputs": [
        {
          "output_type": "stream",
          "name": "stdout",
          "text": [
            "大人である\n",
            "大人である\n",
            "大人である\n",
            "大人である\n"
          ]
        }
      ],
      "source": [
        "class Human:\n",
        "\n",
        "    def __init__(self, name, age):\n",
        "        self.name = name\n",
        "        self.age = age\n",
        "\n",
        "    def checkadult(self):\n",
        "        if self.age >= 20:\n",
        "            print('大人である')\n",
        "        else:\n",
        "            print('大人でない')\n",
        "\n",
        "# human = Human('kesu', 25)\n",
        "# human.checkadult()\n",
        "\n",
        "humans = [\n",
        "    Human('kesu', 25),\n",
        "    Human('kei', 20),\n",
        "    Human('kai', 30),\n",
        "    Human('kii', 45)\n",
        "]\n",
        "\n",
        "# 繰り返し処理\n",
        "for human in humans:\n",
        "    human.checkadult()"
      ]
    },
    {
      "cell_type": "code",
      "source": [],
      "metadata": {
        "id": "EpPQsfW7rjyt"
      },
      "execution_count": null,
      "outputs": []
    }
  ]
}