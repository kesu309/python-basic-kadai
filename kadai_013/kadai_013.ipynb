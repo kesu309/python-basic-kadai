{
  "nbformat": 4,
  "nbformat_minor": 0,
  "metadata": {
    "colab": {
      "provenance": []
    },
    "kernelspec": {
      "name": "python3",
      "display_name": "Python 3"
    },
    "language_info": {
      "name": "python"
    }
  },
  "cells": [
    {
      "cell_type": "code",
      "execution_count": 4,
      "metadata": {
        "colab": {
          "base_uri": "https://localhost:8080/"
        },
        "id": "fzC4SynuVLAJ",
        "outputId": "5e07c1fb-0658-466e-b513-9bcd928c8e1d"
      },
      "outputs": [
        {
          "output_type": "stream",
          "name": "stdout",
          "text": [
            "11000.0\n"
          ]
        }
      ],
      "source": [
        "# 消費税を加えた計算結果を返す関数\n",
        "def calculate_total_price(price, tax_rate):\n",
        "    total_price = price * (1 + tax_rate / 100)\n",
        "    return total_price\n",
        "\n",
        "# 商品の価格\n",
        "price = 10000\n",
        "\n",
        "# 消費税\n",
        "tax_rate = 10\n",
        "\n",
        "# 関数を呼び出して消費税込みの金額を計算\n",
        "total_price = calculate_total_price(price, tax_rate)\n",
        "\n",
        "# 結果を表示\n",
        "print(total_price)\n"
      ]
    },
    {
      "cell_type": "code",
      "source": [],
      "metadata": {
        "id": "DIaI7zWBVpxA"
      },
      "execution_count": null,
      "outputs": []
    }
  ]
}